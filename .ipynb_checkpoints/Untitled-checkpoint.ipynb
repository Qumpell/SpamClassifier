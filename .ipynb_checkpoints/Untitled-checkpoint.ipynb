{
 "cells": [
  {
   "cell_type": "code",
   "execution_count": 65,
   "id": "6e350fc2",
   "metadata": {
    "scrolled": true
   },
   "outputs": [
    {
     "name": "stdout",
     "output_type": "stream",
     "text": [
      "      CATEGORY                                            MESSAGE\n",
      "0            1  Dear Homeowner,\\r\\n\\r\\n \\r\\n\\r\\nInterest Rates...\n",
      "1            1  ATTENTION: This is a MUST for ALL Computer Use...\n",
      "2            1  This is a multi-part message in MIME format.\\r...\n",
      "3            1  IMPORTANT INFORMATION:\\r\\n\\r\\n\\r\\n\\r\\nThe new ...\n",
      "4            1  This is the bottom line.  If you can GIVE AWAY...\n",
      "...        ...                                                ...\n",
      "5791         0  I'm one of the 30,000 but it's not working ver...\n",
      "5792         0  Damien Morton quoted:\\r\\n\\r\\n>W3C approves HTM...\n",
      "5793         0  On Mon, 2002-07-22 at 06:50, che wrote:\\r\\n\\r\\...\n",
      "5794         0  Once upon a time, Manfred wrote :\\r\\n\\r\\n\\r\\n\\...\n",
      "5795         0  If you run Pick, and then use the \"New FTOC\" b...\n",
      "\n",
      "[5796 rows x 2 columns]\n",
      "      CATEGORY                                            MESSAGE\n",
      "0            1  Dear Homeowner Interest Rates are at their low...\n",
      "1            1  ATTENTION This is a MUST for ALL Computer User...\n",
      "2            1  This is a multi part message in MIME format _N...\n",
      "3            1  IMPORTANT INFORMATION The new domain names are...\n",
      "4            1  This is the bottom line If you can GIVE AWAY C...\n",
      "...        ...                                                ...\n",
      "5791         0  I m one of the 30 000 but it s not working ver...\n",
      "5792         0  Damien Morton quoted W3C approves HTML 4 emoti...\n",
      "5793         0  On Mon 2002 07 22 at 06 50 che wrote thats the...\n",
      "5794         0  Once upon a time Manfred wrote I would like to...\n",
      "5795         0  If you run Pick and then use the New FTOC butt...\n",
      "\n",
      "[5796 rows x 2 columns]\n"
     ]
    }
   ],
   "source": [
    "import pandas as pd\n",
    "from sklearn.feature_extraction.text import TfidfVectorizer\n",
    "from sklearn.model_selection import train_test_split\n",
    "from sklearn.naive_bayes import MultinomialNB\n",
    "from sklearn.metrics import accuracy_score, classification_report\n",
    "from sklearn.feature_extraction.text import CountVectorizer\n",
    "\n",
    "df = pd.read_csv('data/Spam Email raw text for NLP.csv')\n",
    "df = df.drop('FILE_NAME', axis =1)\n",
    "\n",
    "# df['MESSAGE'] = df['MESSAGE'].str.lower()\n",
    "print(df)\n",
    "df['MESSAGE'] = df['MESSAGE'].replace(r'[^\\w]+', ' ', regex=True)\n",
    "# df['MESSAGE'] = df['MESSAGE'].apply(lambda x: ' '.join([word for word in word_tokenize(x) if word.isalpha()]))\n",
    "\n",
    "print(df)"
   ]
  },
  {
   "cell_type": "code",
   "execution_count": 66,
   "id": "00435e60",
   "metadata": {},
   "outputs": [
    {
     "name": "stderr",
     "output_type": "stream",
     "text": [
      "[nltk_data] Downloading package punkt to\n",
      "[nltk_data]     C:\\Users\\KOMP\\AppData\\Roaming\\nltk_data...\n",
      "[nltk_data]   Package punkt is already up-to-date!\n",
      "[nltk_data] Downloading package stopwords to\n",
      "[nltk_data]     C:\\Users\\KOMP\\AppData\\Roaming\\nltk_data...\n",
      "[nltk_data]   Package stopwords is already up-to-date!\n"
     ]
    },
    {
     "name": "stdout",
     "output_type": "stream",
     "text": [
      "      CATEGORY                                            MESSAGE\n",
      "0            1  Dear Homeowner Interest Rates lowest point 40 ...\n",
      "1            1  ATTENTION This MUST ALL Computer Users NEW Spe...\n",
      "2            1  This multi part message MIME format _NextPart_...\n",
      "3            1  IMPORTANT INFORMATION The new domain names fin...\n",
      "4            1  This bottom line If GIVE AWAY CD FREE people l...\n",
      "...        ...                                                ...\n",
      "5791         0  I one 30 000 working well week TES updates ser...\n",
      "5792         0  Damien Morton quoted W3C approves HTML 4 emoti...\n",
      "5793         0  On Mon 2002 07 22 06 50 che wrote thats correc...\n",
      "5794         0  Once upon time Manfred wrote I would like inst...\n",
      "5795         0  If run Pick use New FTOC button show messages ...\n",
      "\n",
      "[5796 rows x 2 columns]\n"
     ]
    }
   ],
   "source": [
    "import nltk\n",
    "from nltk.tokenize import word_tokenize\n",
    "from nltk.probability import FreqDist\n",
    "\n",
    "nltk.download('punkt')\n",
    "nltk.download('stopwords')\n",
    "stopword = nltk.corpus.stopwords.words('english')\n",
    "\n",
    "df['MESSAGE'] = df['MESSAGE'].apply(lambda x: ' '.join([word for word in word_tokenize(x) if word not in stopword]))\n",
    "print(df)"
   ]
  },
  {
   "cell_type": "code",
   "execution_count": 67,
   "id": "5998cc01",
   "metadata": {},
   "outputs": [],
   "source": [
    "# # Tworzenie instancji CountVectorizer\n",
    "# vectorizer = CountVectorizer()\n",
    "\n",
    "# # Dopasowanie i transformacja kolumny 'MESSAGE'\n",
    "# tf_matrix = vectorizer.fit_transform(df['MESSAGE'])\n",
    "\n",
    "# # Pobranie nazw cech (słów)\n",
    "# terms = vectorizer.get_feature_names_out()\n",
    "\n",
    "# # Tworzenie DataFrame z macierzą TF, z nazwami kolumn jako słowami\n",
    "# tf_df = pd.DataFrame(data=tf_matrix.toarray(), columns=terms)\n",
    "\n",
    "# # Dodanie kolumny z sumą wystąpień dla każdego sło|wa we wszystkich wiadomościach\n",
    "# tf_df['Sum'] = tf_df.sum(axis=1)\n",
    "\n",
    "\n",
    "# # Wybieranie słów, które występują więcej niż określony próg\n",
    "# threshold = 10000  # Przykładowy próg, możesz dostosować go do swoich potrzeb\n",
    "# selected_words = tf_df[tf_df['Sum'] >= threshold].index\n",
    "\n",
    "\n",
    "# # # Dodanie kolumny TF\n",
    "# # for term in terms:\n",
    "# #     tf_df[term + '_TF'] = tf_df[term] / tf_df['Sum']\n",
    "# # Dodanie kolumny TF\n",
    "# tf_columns = [tf_df[term] / tf_df['Sum'] for term in terms]\n",
    "# tf_df = pd.concat([tf_df] + tf_columns, axis=1)\n",
    "\n",
    "# # Połączenie oryginalnego DataFrame z DataFrame TF\n",
    "# result_df = pd.concat([df, tf_df], axis=1)\n",
    "\n",
    "# # Wyświetlenie wyniku\n",
    "# print(result_df)"
   ]
  },
  {
   "cell_type": "code",
   "execution_count": 68,
   "id": "60ff0f75",
   "metadata": {},
   "outputs": [],
   "source": [
    "tf = TfidfVectorizer(ngram_range=(1,3), max_features=2500)\n",
    "X = tf.fit_transform(df[\"MESSAGE\"]).toarray()\n",
    "y = df[\"CATEGORY\"]\n",
    "\n",
    "x_train, x_test, y_train, y_test = train_test_split(\n",
    "  X, y, test_size=0.20, random_state=1, stratify=y)\n"
   ]
  },
  {
   "cell_type": "code",
   "execution_count": 69,
   "id": "74c874e2",
   "metadata": {},
   "outputs": [
    {
     "data": {
      "text/html": [
       "<style>#sk-container-id-4 {color: black;}#sk-container-id-4 pre{padding: 0;}#sk-container-id-4 div.sk-toggleable {background-color: white;}#sk-container-id-4 label.sk-toggleable__label {cursor: pointer;display: block;width: 100%;margin-bottom: 0;padding: 0.3em;box-sizing: border-box;text-align: center;}#sk-container-id-4 label.sk-toggleable__label-arrow:before {content: \"▸\";float: left;margin-right: 0.25em;color: #696969;}#sk-container-id-4 label.sk-toggleable__label-arrow:hover:before {color: black;}#sk-container-id-4 div.sk-estimator:hover label.sk-toggleable__label-arrow:before {color: black;}#sk-container-id-4 div.sk-toggleable__content {max-height: 0;max-width: 0;overflow: hidden;text-align: left;background-color: #f0f8ff;}#sk-container-id-4 div.sk-toggleable__content pre {margin: 0.2em;color: black;border-radius: 0.25em;background-color: #f0f8ff;}#sk-container-id-4 input.sk-toggleable__control:checked~div.sk-toggleable__content {max-height: 200px;max-width: 100%;overflow: auto;}#sk-container-id-4 input.sk-toggleable__control:checked~label.sk-toggleable__label-arrow:before {content: \"▾\";}#sk-container-id-4 div.sk-estimator input.sk-toggleable__control:checked~label.sk-toggleable__label {background-color: #d4ebff;}#sk-container-id-4 div.sk-label input.sk-toggleable__control:checked~label.sk-toggleable__label {background-color: #d4ebff;}#sk-container-id-4 input.sk-hidden--visually {border: 0;clip: rect(1px 1px 1px 1px);clip: rect(1px, 1px, 1px, 1px);height: 1px;margin: -1px;overflow: hidden;padding: 0;position: absolute;width: 1px;}#sk-container-id-4 div.sk-estimator {font-family: monospace;background-color: #f0f8ff;border: 1px dotted black;border-radius: 0.25em;box-sizing: border-box;margin-bottom: 0.5em;}#sk-container-id-4 div.sk-estimator:hover {background-color: #d4ebff;}#sk-container-id-4 div.sk-parallel-item::after {content: \"\";width: 100%;border-bottom: 1px solid gray;flex-grow: 1;}#sk-container-id-4 div.sk-label:hover label.sk-toggleable__label {background-color: #d4ebff;}#sk-container-id-4 div.sk-serial::before {content: \"\";position: absolute;border-left: 1px solid gray;box-sizing: border-box;top: 0;bottom: 0;left: 50%;z-index: 0;}#sk-container-id-4 div.sk-serial {display: flex;flex-direction: column;align-items: center;background-color: white;padding-right: 0.2em;padding-left: 0.2em;position: relative;}#sk-container-id-4 div.sk-item {position: relative;z-index: 1;}#sk-container-id-4 div.sk-parallel {display: flex;align-items: stretch;justify-content: center;background-color: white;position: relative;}#sk-container-id-4 div.sk-item::before, #sk-container-id-4 div.sk-parallel-item::before {content: \"\";position: absolute;border-left: 1px solid gray;box-sizing: border-box;top: 0;bottom: 0;left: 50%;z-index: -1;}#sk-container-id-4 div.sk-parallel-item {display: flex;flex-direction: column;z-index: 1;position: relative;background-color: white;}#sk-container-id-4 div.sk-parallel-item:first-child::after {align-self: flex-end;width: 50%;}#sk-container-id-4 div.sk-parallel-item:last-child::after {align-self: flex-start;width: 50%;}#sk-container-id-4 div.sk-parallel-item:only-child::after {width: 0;}#sk-container-id-4 div.sk-dashed-wrapped {border: 1px dashed gray;margin: 0 0.4em 0.5em 0.4em;box-sizing: border-box;padding-bottom: 0.4em;background-color: white;}#sk-container-id-4 div.sk-label label {font-family: monospace;font-weight: bold;display: inline-block;line-height: 1.2em;}#sk-container-id-4 div.sk-label-container {text-align: center;}#sk-container-id-4 div.sk-container {/* jupyter's `normalize.less` sets `[hidden] { display: none; }` but bootstrap.min.css set `[hidden] { display: none !important; }` so we also need the `!important` here to be able to override the default hidden behavior on the sphinx rendered scikit-learn.org. See: https://github.com/scikit-learn/scikit-learn/issues/21755 */display: inline-block !important;position: relative;}#sk-container-id-4 div.sk-text-repr-fallback {display: none;}</style><div id=\"sk-container-id-4\" class=\"sk-top-container\"><div class=\"sk-text-repr-fallback\"><pre>MultinomialNB()</pre><b>In a Jupyter environment, please rerun this cell to show the HTML representation or trust the notebook. <br />On GitHub, the HTML representation is unable to render, please try loading this page with nbviewer.org.</b></div><div class=\"sk-container\" hidden><div class=\"sk-item\"><div class=\"sk-estimator sk-toggleable\"><input class=\"sk-toggleable__control sk-hidden--visually\" id=\"sk-estimator-id-4\" type=\"checkbox\" checked><label for=\"sk-estimator-id-4\" class=\"sk-toggleable__label sk-toggleable__label-arrow\">MultinomialNB</label><div class=\"sk-toggleable__content\"><pre>MultinomialNB()</pre></div></div></div></div></div>"
      ],
      "text/plain": [
       "MultinomialNB()"
      ]
     },
     "execution_count": 69,
     "metadata": {},
     "output_type": "execute_result"
    }
   ],
   "source": [
    "model = MultinomialNB()\n",
    "model.fit(x_train, y_train)"
   ]
  },
  {
   "cell_type": "code",
   "execution_count": 70,
   "id": "aeebb46e",
   "metadata": {},
   "outputs": [],
   "source": [
    "train_pred = model.predict(x_train)\n",
    "test_pred = model.predict(x_test)"
   ]
  },
  {
   "cell_type": "code",
   "execution_count": 71,
   "id": "f3d66d54",
   "metadata": {},
   "outputs": [
    {
     "name": "stdout",
     "output_type": "stream",
     "text": [
      "              precision    recall  f1-score   support\n",
      "\n",
      "           0       0.99      0.96      0.97       812\n",
      "           1       0.91      0.99      0.94       348\n",
      "\n",
      "    accuracy                           0.96      1160\n",
      "   macro avg       0.95      0.97      0.96      1160\n",
      "weighted avg       0.97      0.96      0.97      1160\n",
      "\n"
     ]
    }
   ],
   "source": [
    "# print(classification_report(train_pred, y_train))\n",
    "print(classification_report(test_pred, y_test))"
   ]
  },
  {
   "cell_type": "code",
   "execution_count": 72,
   "id": "40ef48b5",
   "metadata": {},
   "outputs": [
    {
     "name": "stdout",
     "output_type": "stream",
     "text": [
      "Predicting...\n",
      "The message is spam\n"
     ]
    }
   ],
   "source": [
    "print('Predicting...')\n",
    "\n",
    "message = [\"\"\"You won 10000 dollars, please provide your account \n",
    "            details,So that we can transfer the money\"\"\"]\n",
    "\n",
    "message_vector = tf.transform(message)\n",
    "category = model.predict(message_vector)\n",
    "print(\"The message is\", \"spam\" if category == 1 else \"not spam\")"
   ]
  },
  {
   "cell_type": "code",
   "execution_count": null,
   "id": "634b0095",
   "metadata": {},
   "outputs": [],
   "source": []
  }
 ],
 "metadata": {
  "kernelspec": {
   "display_name": "Python 3 (ipykernel)",
   "language": "python",
   "name": "python3"
  },
  "language_info": {
   "codemirror_mode": {
    "name": "ipython",
    "version": 3
   },
   "file_extension": ".py",
   "mimetype": "text/x-python",
   "name": "python",
   "nbconvert_exporter": "python",
   "pygments_lexer": "ipython3",
   "version": "3.11.5"
  }
 },
 "nbformat": 4,
 "nbformat_minor": 5
}
