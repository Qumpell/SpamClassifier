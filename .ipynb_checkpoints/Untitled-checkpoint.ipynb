{
 "cells": [
  {
   "cell_type": "code",
   "execution_count": 2,
   "id": "6e350fc2",
   "metadata": {},
   "outputs": [
    {
     "name": "stdout",
     "output_type": "stream",
     "text": [
      "0       Dear Homeowner,\\n\\n \\n\\nInterest Rates are at ...\n",
      "1       ATTENTION: This is a MUST for ALL Computer Use...\n",
      "2       This is a multi-part message in MIME format.\\n...\n",
      "3       IMPORTANT INFORMATION:\\n\\n\\n\\nThe new domain n...\n",
      "4       This is the bottom line.  If you can GIVE AWAY...\n",
      "                              ...                        \n",
      "5791    I'm one of the 30,000 but it's not working ver...\n",
      "5792    Damien Morton quoted:\\n\\n>W3C approves HTML 4 ...\n",
      "5793    On Mon, 2002-07-22 at 06:50, che wrote:\\n\\n\\n\\...\n",
      "5794    Once upon a time, Manfred wrote :\\n\\n\\n\\n> I w...\n",
      "5795    If you run Pick, and then use the \"New FTOC\" b...\n",
      "Name: MESSAGE, Length: 5796, dtype: object\n"
     ]
    }
   ],
   "source": [
    "import pandas as pd\n",
    "from sklearn.feature_extraction.text import TfidfVectorizer\n",
    "from sklearn.model_selection import train_test_split\n",
    "from sklearn.naive_bayes import MultinomialNB\n",
    "from sklearn.metrics import accuracy_score, classification_report\n",
    "\n",
    "\n",
    "df = pd.read_csv('data/Spam Email raw text for NLP.csv')\n",
    "print(df['MESSAGE'])\n"
   ]
  },
  {
   "cell_type": "code",
   "execution_count": null,
   "id": "00435e60",
   "metadata": {},
   "outputs": [],
   "source": []
  }
 ],
 "metadata": {
  "kernelspec": {
   "display_name": "Python 3 (ipykernel)",
   "language": "python",
   "name": "python3"
  },
  "language_info": {
   "codemirror_mode": {
    "name": "ipython",
    "version": 3
   },
   "file_extension": ".py",
   "mimetype": "text/x-python",
   "name": "python",
   "nbconvert_exporter": "python",
   "pygments_lexer": "ipython3",
   "version": "3.11.5"
  }
 },
 "nbformat": 4,
 "nbformat_minor": 5
}
